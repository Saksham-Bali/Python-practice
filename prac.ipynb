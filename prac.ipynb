{
 "cells": [
  {
   "cell_type": "code",
   "execution_count": 9,
   "id": "ffa1fc2d",
   "metadata": {},
   "outputs": [
    {
     "name": "stdout",
     "output_type": "stream",
     "text": [
      "Monday\n"
     ]
    }
   ],
   "source": [
    "class Solution:\n",
    "    def whichWeekDay(self, day):\n",
    "        match day:\n",
    "            case 1:\n",
    "                print(\"Monday\")\n",
    "            case 2:\n",
    "                print(\"Tuesday\")\n",
    "            case 3:\n",
    "                print(\"Wednesday\")\n",
    "            case 4:\n",
    "                print(\"Thursday\")\n",
    "            case 5:\n",
    "                print(\"Friday\")\n",
    "            case 6:\n",
    "                print(\"Saturday\")\n",
    "            case 7:\n",
    "                print(\"Sunday\")\n",
    "            case _:\n",
    "                print(\"Invalid\")\n",
    "s = Solution()\n",
    "day_number = int(input(\"Enter a number (1-7): \"))\n",
    "s.whichWeekDay(day_number)\n"
   ]
  },
  {
   "cell_type": "code",
   "execution_count": null,
   "id": "e9f48520",
   "metadata": {},
   "outputs": [],
   "source": []
  }
 ],
 "metadata": {
  "kernelspec": {
   "display_name": "Python 3",
   "language": "python",
   "name": "python3"
  },
  "language_info": {
   "codemirror_mode": {
    "name": "ipython",
    "version": 3
   },
   "file_extension": ".py",
   "mimetype": "text/x-python",
   "name": "python",
   "nbconvert_exporter": "python",
   "pygments_lexer": "ipython3",
   "version": "3.13.0"
  }
 },
 "nbformat": 4,
 "nbformat_minor": 5
}
